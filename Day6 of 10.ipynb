{
 "cells": [
  {
   "cell_type": "markdown",
   "id": "a5d5c0e2",
   "metadata": {},
   "source": [
    "# Day 6 : Data Loading and Manipulation and Visulatiozation"
   ]
  },
  {
   "cell_type": "markdown",
   "id": "6eb9040e",
   "metadata": {},
   "source": [
    "### You can use the following liberaries for your assignment:\n",
    "> Numpy, Pandas, Matplotlib, Seaborn, LASIO, Welly"
   ]
  },
  {
   "cell_type": "markdown",
   "id": "6367bc5f",
   "metadata": {},
   "source": [
    "## Kindly load the las file of Exported.csv file from the data folder\n",
    "## Perform the below Tasks:\n",
    "\n",
    ">1. Investigate the component of the data file (number of columns , numbers of observations, Null values, normal statistics) \n",
    "2. Plot the null values as bars\n",
    "3. Create a copy of the data frame and drop the NAN values\n",
    "3. Use the other copy to fill-in NAN values.\n",
    "4. Which option do you prefer to work with regarding the relationship with PHIE and DT or PHIE and RHOB\n",
    "\n"
   ]
  },
  {
   "cell_type": "code",
   "execution_count": 1,
   "id": "53d7f7ee",
   "metadata": {},
   "outputs": [
    {
     "name": "stdout",
     "output_type": "stream",
     "text": [
      "Requirement already satisfied: lasio in c:\\users\\hp\\appdata\\local\\programs\\python\\python39\\lib\\site-packages (0.29)"
     ]
    },
    {
     "name": "stderr",
     "output_type": "stream",
     "text": [
      "WARNING: You are using pip version 21.1.1; however, version 21.1.3 is available.\n",
      "You should consider upgrading via the 'c:\\users\\hp\\appdata\\local\\programs\\python\\python39\\python.exe -m pip install --upgrade pip' command.\n"
     ]
    },
    {
     "name": "stdout",
     "output_type": "stream",
     "text": [
      "\n",
      "Requirement already satisfied: numpy in c:\\users\\hp\\appdata\\local\\programs\\python\\python39\\lib\\site-packages (from lasio) (1.21.0)\n"
     ]
    }
   ],
   "source": [
    "!pip install lasio"
   ]
  },
  {
   "cell_type": "code",
   "execution_count": 2,
   "id": "f078a747",
   "metadata": {},
   "outputs": [],
   "source": [
    "import lasio\n",
    "import numpy as np\n",
    "import pandas as pd\n",
    "import matplotlib.pyplot as plt\n",
    "import seaborn as sb"
   ]
  },
  {
   "cell_type": "code",
   "execution_count": 3,
   "id": "b52c5839",
   "metadata": {},
   "outputs": [],
   "source": [
    "F02_1 = lasio.read(r\"F:\\GeoML-2\\GeoML-2.0\\10DaysChallenge\\Dutch_F3_Logs\\F02-1_logs.las\")"
   ]
  },
  {
   "cell_type": "code",
   "execution_count": 4,
   "id": "6875027e",
   "metadata": {},
   "outputs": [
    {
     "name": "stdout",
     "output_type": "stream",
     "text": [
      "<class 'pandas.core.frame.DataFrame'>\n",
      "Float64Index: 9680 entries, 48.0 to 1499.8501\n",
      "Data columns (total 6 columns):\n",
      " #   Column  Non-Null Count  Dtype  \n",
      "---  ------  --------------  -----  \n",
      " 0   RHOB    8253 non-null   float64\n",
      " 1   DT      9680 non-null   float64\n",
      " 2   GR      9666 non-null   float64\n",
      " 3   AI      9680 non-null   float64\n",
      " 4   AI_REL  9680 non-null   float64\n",
      " 5   PHIE    4906 non-null   float64\n",
      "dtypes: float64(6)\n",
      "memory usage: 529.4 KB\n"
     ]
    },
    {
     "data": {
      "text/html": [
       "<div>\n",
       "<style scoped>\n",
       "    .dataframe tbody tr th:only-of-type {\n",
       "        vertical-align: middle;\n",
       "    }\n",
       "\n",
       "    .dataframe tbody tr th {\n",
       "        vertical-align: top;\n",
       "    }\n",
       "\n",
       "    .dataframe thead th {\n",
       "        text-align: right;\n",
       "    }\n",
       "</style>\n",
       "<table border=\"1\" class=\"dataframe\">\n",
       "  <thead>\n",
       "    <tr style=\"text-align: right;\">\n",
       "      <th></th>\n",
       "      <th>RHOB</th>\n",
       "      <th>DT</th>\n",
       "      <th>GR</th>\n",
       "      <th>AI</th>\n",
       "      <th>AI_REL</th>\n",
       "      <th>PHIE</th>\n",
       "    </tr>\n",
       "  </thead>\n",
       "  <tbody>\n",
       "    <tr>\n",
       "      <th>count</th>\n",
       "      <td>8253.000000</td>\n",
       "      <td>9680.000000</td>\n",
       "      <td>9666.000000</td>\n",
       "      <td>9.680000e+03</td>\n",
       "      <td>9680.000000</td>\n",
       "      <td>4906.000000</td>\n",
       "    </tr>\n",
       "    <tr>\n",
       "      <th>mean</th>\n",
       "      <td>1975.091074</td>\n",
       "      <td>495.026839</td>\n",
       "      <td>46.613531</td>\n",
       "      <td>4.078518e+06</td>\n",
       "      <td>5193.728898</td>\n",
       "      <td>0.304522</td>\n",
       "    </tr>\n",
       "    <tr>\n",
       "      <th>std</th>\n",
       "      <td>294.677828</td>\n",
       "      <td>50.861145</td>\n",
       "      <td>23.484662</td>\n",
       "      <td>8.776878e+05</td>\n",
       "      <td>193455.679167</td>\n",
       "      <td>0.064282</td>\n",
       "    </tr>\n",
       "    <tr>\n",
       "      <th>min</th>\n",
       "      <td>1350.444700</td>\n",
       "      <td>368.114700</td>\n",
       "      <td>1.339200</td>\n",
       "      <td>2.035267e+06</td>\n",
       "      <td>-617319.750000</td>\n",
       "      <td>0.203900</td>\n",
       "    </tr>\n",
       "    <tr>\n",
       "      <th>25%</th>\n",
       "      <td>1812.400000</td>\n",
       "      <td>460.693600</td>\n",
       "      <td>23.527000</td>\n",
       "      <td>3.658766e+06</td>\n",
       "      <td>-95113.828100</td>\n",
       "      <td>0.257900</td>\n",
       "    </tr>\n",
       "    <tr>\n",
       "      <th>50%</th>\n",
       "      <td>2096.345000</td>\n",
       "      <td>505.393400</td>\n",
       "      <td>48.765250</td>\n",
       "      <td>3.953107e+06</td>\n",
       "      <td>2603.301500</td>\n",
       "      <td>0.283000</td>\n",
       "    </tr>\n",
       "    <tr>\n",
       "      <th>75%</th>\n",
       "      <td>2210.906000</td>\n",
       "      <td>521.642300</td>\n",
       "      <td>63.162950</td>\n",
       "      <td>4.782770e+06</td>\n",
       "      <td>93553.453100</td>\n",
       "      <td>0.339800</td>\n",
       "    </tr>\n",
       "    <tr>\n",
       "      <th>max</th>\n",
       "      <td>2346.629200</td>\n",
       "      <td>667.920800</td>\n",
       "      <td>129.177300</td>\n",
       "      <td>5.983779e+06</td>\n",
       "      <td>629867.000000</td>\n",
       "      <td>0.709000</td>\n",
       "    </tr>\n",
       "  </tbody>\n",
       "</table>\n",
       "</div>"
      ],
      "text/plain": [
       "              RHOB           DT           GR            AI         AI_REL  \\\n",
       "count  8253.000000  9680.000000  9666.000000  9.680000e+03    9680.000000   \n",
       "mean   1975.091074   495.026839    46.613531  4.078518e+06    5193.728898   \n",
       "std     294.677828    50.861145    23.484662  8.776878e+05  193455.679167   \n",
       "min    1350.444700   368.114700     1.339200  2.035267e+06 -617319.750000   \n",
       "25%    1812.400000   460.693600    23.527000  3.658766e+06  -95113.828100   \n",
       "50%    2096.345000   505.393400    48.765250  3.953107e+06    2603.301500   \n",
       "75%    2210.906000   521.642300    63.162950  4.782770e+06   93553.453100   \n",
       "max    2346.629200   667.920800   129.177300  5.983779e+06  629867.000000   \n",
       "\n",
       "              PHIE  \n",
       "count  4906.000000  \n",
       "mean      0.304522  \n",
       "std       0.064282  \n",
       "min       0.203900  \n",
       "25%       0.257900  \n",
       "50%       0.283000  \n",
       "75%       0.339800  \n",
       "max       0.709000  "
      ]
     },
     "execution_count": 4,
     "metadata": {},
     "output_type": "execute_result"
    }
   ],
   "source": [
    "df = F02_1.df()\n",
    "df.info()\n",
    "df.describe()"
   ]
  },
  {
   "cell_type": "code",
   "execution_count": 5,
   "id": "1935bcd5",
   "metadata": {},
   "outputs": [
    {
     "data": {
      "text/plain": [
       "<AxesSubplot:title={'center':'Missing Values Comparison'}>"
      ]
     },
     "execution_count": 5,
     "metadata": {},
     "output_type": "execute_result"
    },
    {
     "data": {
      "image/png": "[encoded data removed]",
      "text/plain": [
       "<Figure size 1440x432 with 1 Axes>"
      ]
     },
     "metadata": {
      "needs_background": "light"
     },
     "output_type": "display_data"
    }
   ],
   "source": [
    "df.isnull().sum().plot(kind = 'bar', title = 'Missing Values Comparison', figsize=(20,6))"
   ]
  },
  {
   "cell_type": "code",
   "execution_count": 7,
   "id": "c3370a7c",
   "metadata": {},
   "outputs": [
    {
     "name": "stdout",
     "output_type": "stream",
     "text": [
      "original df = (9680, 6)\n",
      "after removing nans = (4906, 6)\n",
      "====================================================================================================\n",
      "This dataset has 4906 rows and 6 columns\n"
     ]
    }
   ],
   "source": [
    "df_clean=df.copy()\n",
    "print('original df =',df_clean.shape)\n",
    "df_clean.dropna(inplace=True)\n",
    "print('after removing nans =',df_clean.shape)\n",
    "print('=' *100)\n",
    "print('This dataset has {0} rows and {1} columns'.format(df_clean.shape[0],df_clean.shape[1]))"
   ]
  },
  {
   "cell_type": "code",
   "execution_count": 8,
   "id": "ca84cae9",
   "metadata": {},
   "outputs": [],
   "source": [
    "df_1=df"
   ]
  },
  {
   "cell_type": "code",
   "execution_count": 9,
   "id": "88cfe0ad",
   "metadata": {},
   "outputs": [],
   "source": [
    "df_mean=df_1.copy()"
   ]
  },
  {
   "cell_type": "code",
   "execution_count": 10,
   "id": "1667527d",
   "metadata": {},
   "outputs": [
    {
     "data": {
      "text/plain": [
       "'after filling nans'"
      ]
     },
     "metadata": {},
     "output_type": "display_data"
    },
    {
     "data": {
      "text/html": [
       "<div>\n",
       "<style scoped>\n",
       "    .dataframe tbody tr th:only-of-type {\n",
       "        vertical-align: middle;\n",
       "    }\n",
       "\n",
       "    .dataframe tbody tr th {\n",
       "        vertical-align: top;\n",
       "    }\n",
       "\n",
       "    .dataframe thead th {\n",
       "        text-align: right;\n",
       "    }\n",
       "</style>\n",
       "<table border=\"1\" class=\"dataframe\">\n",
       "  <thead>\n",
       "    <tr style=\"text-align: right;\">\n",
       "      <th></th>\n",
       "      <th>RHOB</th>\n",
       "      <th>DT</th>\n",
       "      <th>GR</th>\n",
       "      <th>AI</th>\n",
       "      <th>AI_REL</th>\n",
       "      <th>PHIE</th>\n",
       "    </tr>\n",
       "    <tr>\n",
       "      <th>DEPTH</th>\n",
       "      <th></th>\n",
       "      <th></th>\n",
       "      <th></th>\n",
       "      <th></th>\n",
       "      <th></th>\n",
       "      <th></th>\n",
       "    </tr>\n",
       "  </thead>\n",
       "  <tbody>\n",
       "    <tr>\n",
       "      <th>48.0000</th>\n",
       "      <td>1975.091074</td>\n",
       "      <td>524.0485</td>\n",
       "      <td>46.613531</td>\n",
       "      <td>3820257.00</td>\n",
       "      <td>-455.6956</td>\n",
       "      <td>0.304522</td>\n",
       "    </tr>\n",
       "    <tr>\n",
       "      <th>48.1500</th>\n",
       "      <td>1975.091074</td>\n",
       "      <td>524.0410</td>\n",
       "      <td>46.613531</td>\n",
       "      <td>3820311.75</td>\n",
       "      <td>-455.6956</td>\n",
       "      <td>0.304522</td>\n",
       "    </tr>\n",
       "    <tr>\n",
       "      <th>48.3000</th>\n",
       "      <td>1975.091074</td>\n",
       "      <td>524.0336</td>\n",
       "      <td>46.613531</td>\n",
       "      <td>3820366.25</td>\n",
       "      <td>-455.6956</td>\n",
       "      <td>0.304522</td>\n",
       "    </tr>\n",
       "    <tr>\n",
       "      <th>48.4500</th>\n",
       "      <td>1975.091074</td>\n",
       "      <td>524.0262</td>\n",
       "      <td>46.613531</td>\n",
       "      <td>3820419.75</td>\n",
       "      <td>-455.6956</td>\n",
       "      <td>0.304522</td>\n",
       "    </tr>\n",
       "    <tr>\n",
       "      <th>48.6000</th>\n",
       "      <td>1975.091074</td>\n",
       "      <td>524.0190</td>\n",
       "      <td>46.613531</td>\n",
       "      <td>3820472.25</td>\n",
       "      <td>-455.6956</td>\n",
       "      <td>0.304522</td>\n",
       "    </tr>\n",
       "    <tr>\n",
       "      <th>...</th>\n",
       "      <td>...</td>\n",
       "      <td>...</td>\n",
       "      <td>...</td>\n",
       "      <td>...</td>\n",
       "      <td>...</td>\n",
       "      <td>...</td>\n",
       "    </tr>\n",
       "    <tr>\n",
       "      <th>1499.2500</th>\n",
       "      <td>1787.544400</td>\n",
       "      <td>532.1727</td>\n",
       "      <td>27.627300</td>\n",
       "      <td>3359011.00</td>\n",
       "      <td>-239115.9375</td>\n",
       "      <td>0.304522</td>\n",
       "    </tr>\n",
       "    <tr>\n",
       "      <th>1499.4000</th>\n",
       "      <td>1814.169100</td>\n",
       "      <td>534.8610</td>\n",
       "      <td>28.528100</td>\n",
       "      <td>3391772.00</td>\n",
       "      <td>-239115.9375</td>\n",
       "      <td>0.304522</td>\n",
       "    </tr>\n",
       "    <tr>\n",
       "      <th>1499.5500</th>\n",
       "      <td>1861.649700</td>\n",
       "      <td>537.1902</td>\n",
       "      <td>28.581300</td>\n",
       "      <td>3465524.00</td>\n",
       "      <td>-239115.9375</td>\n",
       "      <td>0.304522</td>\n",
       "    </tr>\n",
       "    <tr>\n",
       "      <th>1499.7001</th>\n",
       "      <td>1880.397800</td>\n",
       "      <td>537.2630</td>\n",
       "      <td>28.581300</td>\n",
       "      <td>3499957.75</td>\n",
       "      <td>-239115.9375</td>\n",
       "      <td>0.304522</td>\n",
       "    </tr>\n",
       "    <tr>\n",
       "      <th>1499.8501</th>\n",
       "      <td>1856.335000</td>\n",
       "      <td>537.3831</td>\n",
       "      <td>27.975900</td>\n",
       "      <td>3454404.00</td>\n",
       "      <td>-212640.7031</td>\n",
       "      <td>0.304522</td>\n",
       "    </tr>\n",
       "  </tbody>\n",
       "</table>\n",
       "<p>9680 rows × 6 columns</p>\n",
       "</div>"
      ],
      "text/plain": [
       "                  RHOB        DT         GR          AI       AI_REL      PHIE\n",
       "DEPTH                                                                         \n",
       "48.0000    1975.091074  524.0485  46.613531  3820257.00    -455.6956  0.304522\n",
       "48.1500    1975.091074  524.0410  46.613531  3820311.75    -455.6956  0.304522\n",
       "48.3000    1975.091074  524.0336  46.613531  3820366.25    -455.6956  0.304522\n",
       "48.4500    1975.091074  524.0262  46.613531  3820419.75    -455.6956  0.304522\n",
       "48.6000    1975.091074  524.0190  46.613531  3820472.25    -455.6956  0.304522\n",
       "...                ...       ...        ...         ...          ...       ...\n",
       "1499.2500  1787.544400  532.1727  27.627300  3359011.00 -239115.9375  0.304522\n",
       "1499.4000  1814.169100  534.8610  28.528100  3391772.00 -239115.9375  0.304522\n",
       "1499.5500  1861.649700  537.1902  28.581300  3465524.00 -239115.9375  0.304522\n",
       "1499.7001  1880.397800  537.2630  28.581300  3499957.75 -239115.9375  0.304522\n",
       "1499.8501  1856.335000  537.3831  27.975900  3454404.00 -212640.7031  0.304522\n",
       "\n",
       "[9680 rows x 6 columns]"
      ]
     },
     "metadata": {},
     "output_type": "display_data"
    }
   ],
   "source": [
    "df_mean['RHOB']=df_mean['RHOB'].fillna(df_mean['RHOB'].mean())\n",
    "df_mean['GR']=df_mean['GR'].fillna(df_mean['GR'].mean())\n",
    "df_mean['PHIE']=df_mean['PHIE'].fillna(df_mean['PHIE'].mean())\n",
    "display('after filling nans',df_mean)"
   ]
  },
  {
   "cell_type": "code",
   "execution_count": 15,
   "id": "fcec5e81",
   "metadata": {},
   "outputs": [
    {
     "data": {
      "image/png": "[encoded data removed]",
      "text/plain": [
       "<Figure size 720x360 with 1 Axes>"
      ]
     },
     "metadata": {
      "needs_background": "light"
     },
     "output_type": "display_data"
    },
    {
     "data": {
      "image/png": "[encoded data removed]",
      "text/plain": [
       "<Figure size 720x360 with 1 Axes>"
      ]
     },
     "metadata": {
      "needs_background": "light"
     },
     "output_type": "display_data"
    }
   ],
   "source": [
    "plt.figure(figsize=(10,5))\n",
    "plt.scatter(df_clean.DT, df_clean.PHIE)\n",
    "plt.title('PHIE vs DT plot ')\n",
    "plt.xlabel('DT')\n",
    "plt.ylabel('PHIE')\n",
    "plt.grid()\n",
    "plt.show();\n",
    "\n",
    "plt.figure(figsize=(10,5))\n",
    "plt.scatter(df_clean.RHOB, df_clean.PHIE)\n",
    "plt.title('PHIE vs RHOB plot ')\n",
    "plt.xlabel('RHOB')\n",
    "plt.ylabel('PHIE')\n",
    "plt.grid()\n",
    "plt.show();"
   ]
  },
  {
   "cell_type": "code",
   "execution_count": 16,
   "id": "ee3b7069",
   "metadata": {},
   "outputs": [
    {
     "data": {
      "image/png": "[encoded data removed]",
      "text/plain": [
       "<Figure size 720x360 with 1 Axes>"
      ]
     },
     "metadata": {
      "needs_background": "light"
     },
     "output_type": "display_data"
    },
    {
     "data": {
      "image/png": "[encoded data removed]",
      "text/plain": [
       "<Figure size 720x360 with 1 Axes>"
      ]
     },
     "metadata": {
      "needs_background": "light"
     },
     "output_type": "display_data"
    }
   ],
   "source": [
    "plt.figure(figsize=(10,5))\n",
    "plt.scatter(df_mean.DT, df_mean.PHIE)\n",
    "plt.title('PHIE vs DT plot ')\n",
    "plt.xlabel('DT')\n",
    "plt.ylabel('PHIE')\n",
    "plt.grid()\n",
    "plt.show();\n",
    "\n",
    "plt.figure(figsize=(10,5))\n",
    "plt.scatter(df_mean.RHOB, df_mean.PHIE)\n",
    "plt.title('PHIE vs RHOB plot ')\n",
    "plt.xlabel('RHOB')\n",
    "plt.ylabel('PHIE')\n",
    "plt.grid()\n",
    "plt.show();"
   ]
  },
  {
   "cell_type": "code",
   "execution_count": 17,
   "id": "05f9871e",
   "metadata": {},
   "outputs": [],
   "source": [
    "#i prefer to work with clean data without null vlaues"
   ]
  },
  {
   "cell_type": "code",
   "execution_count": null,
   "id": "d766deea",
   "metadata": {},
   "outputs": [],
   "source": []
  }
 ],
 "metadata": {
  "kernelspec": {
   "display_name": "Python 3",
   "language": "python",
   "name": "python3"
  },
  "language_info": {
   "codemirror_mode": {
    "name": "ipython",
    "version": 3
   },
   "file_extension": ".py",
   "mimetype": "text/x-python",
   "name": "python",
   "nbconvert_exporter": "python",
   "pygments_lexer": "ipython3",
   "version": "3.9.5"
  },
  "toc": {
   "base_numbering": 1,
   "nav_menu": {},
   "number_sections": false,
   "sideBar": true,
   "skip_h1_title": true,
   "title_cell": "Table of Contents",
   "title_sidebar": "Contents",
   "toc_cell": false,
   "toc_position": {},
   "toc_section_display": true,
   "toc_window_display": true
  },
  "varInspector": {
   "cols": {
    "lenName": 16,
    "lenType": 16,
    "lenVar": 40
   },
   "kernels_config": {
    "python": {
     "delete_cmd_postfix": "",
     "delete_cmd_prefix": "del ",
     "library": "var_list.py",
     "varRefreshCmd": "print(var_dic_list())"
    },
    "r": {
     "delete_cmd_postfix": ") ",
     "delete_cmd_prefix": "rm(",
     "library": "var_list.r",
     "varRefreshCmd": "cat(var_dic_list()) "
    }
   },
   "types_to_exclude": [
    "module",
    "function",
    "builtin_function_or_method",
    "instance",
    "_Feature"
   ],
   "window_display": false
  }
 },
 "nbformat": 4,
 "nbformat_minor": 5
}
